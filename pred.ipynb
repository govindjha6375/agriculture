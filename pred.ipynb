{
 "cells": [
  {
   "cell_type": "code",
   "execution_count": 5,
   "id": "d96f8fb8",
   "metadata": {},
   "outputs": [],
   "source": [
    "# Ignore warnings\n",
    "import warnings\n",
    "warnings.filterwarnings('ignore')\n",
    "\n",
    "# Handle table-like data and matrices\n",
    "import numpy as np\n",
    "import pandas as pd\n",
    "import math \n",
    "# Modelling Algorithms\n",
    "from sklearn.tree import DecisionTreeClassifier\n",
    "from sklearn.neural_network import MLPClassifier\n",
    "from sklearn.linear_model import LogisticRegression\n",
    "from sklearn.neighbors import KNeighborsClassifier\n",
    "from sklearn.naive_bayes import GaussianNB\n",
    "from sklearn.svm import SVC, LinearSVC\n",
    "from sklearn.ensemble import RandomForestClassifier , GradientBoostingClassifier\n",
    "from sklearn.metrics import accuracy_score\n",
    "\n",
    "# Modelling Helpers\n",
    "from sklearn.model_selection import train_test_split\n",
    "from sklearn.feature_selection import RFECV\n",
    "\n",
    "# Visualisation\n",
    "import matplotlib as mpl\n",
    "import matplotlib.pyplot as plt\n",
    "import matplotlib.pylab as pylab\n",
    "import seaborn as sns\n",
    "\n",
    "# Configure visualisations\n",
    "%matplotlib inline\n",
    "mpl.style.use( 'ggplot' )\n",
    "sns.set_style( 'white' )\n",
    "pylab.rcParams[ 'figure.figsize' ] = 8 , 6"
   ]
  },
  {
   "cell_type": "code",
   "execution_count": 6,
   "id": "b5fffb28",
   "metadata": {},
   "outputs": [],
   "source": [
    "train = pd.read_csv(\"wholesale_price.csv\")\n",
    "df = train"
   ]
  },
  {
   "cell_type": "code",
   "execution_count": 7,
   "id": "526d4e11",
   "metadata": {},
   "outputs": [
    {
     "data": {
      "text/html": [
       "<div>\n",
       "<style scoped>\n",
       "    .dataframe tbody tr th:only-of-type {\n",
       "        vertical-align: middle;\n",
       "    }\n",
       "\n",
       "    .dataframe tbody tr th {\n",
       "        vertical-align: top;\n",
       "    }\n",
       "\n",
       "    .dataframe thead th {\n",
       "        text-align: right;\n",
       "    }\n",
       "</style>\n",
       "<table border=\"1\" class=\"dataframe\">\n",
       "  <thead>\n",
       "    <tr style=\"text-align: right;\">\n",
       "      <th></th>\n",
       "      <th>crop</th>\n",
       "      <th>_2004_05</th>\n",
       "      <th>_2005_06</th>\n",
       "      <th>_2006_07</th>\n",
       "      <th>_2007_08</th>\n",
       "      <th>_2008_09</th>\n",
       "      <th>_2009_10</th>\n",
       "      <th>_2010_11</th>\n",
       "      <th>_2011_12</th>\n",
       "    </tr>\n",
       "  </thead>\n",
       "  <tbody>\n",
       "    <tr>\n",
       "      <th>0</th>\n",
       "      <td>Rice</td>\n",
       "      <td>100.0</td>\n",
       "      <td>101.0</td>\n",
       "      <td>99.0</td>\n",
       "      <td>105.0</td>\n",
       "      <td>112.0</td>\n",
       "      <td>121.0</td>\n",
       "      <td>117.0</td>\n",
       "      <td>110.0</td>\n",
       "    </tr>\n",
       "    <tr>\n",
       "      <th>1</th>\n",
       "      <td>Wheat</td>\n",
       "      <td>100.0</td>\n",
       "      <td>101.0</td>\n",
       "      <td>112.0</td>\n",
       "      <td>115.0</td>\n",
       "      <td>117.0</td>\n",
       "      <td>127.0</td>\n",
       "      <td>120.0</td>\n",
       "      <td>108.0</td>\n",
       "    </tr>\n",
       "    <tr>\n",
       "      <th>2</th>\n",
       "      <td>Coarse Cereals</td>\n",
       "      <td>100.0</td>\n",
       "      <td>107.0</td>\n",
       "      <td>110.0</td>\n",
       "      <td>115.0</td>\n",
       "      <td>113.0</td>\n",
       "      <td>123.0</td>\n",
       "      <td>122.0</td>\n",
       "      <td>136.0</td>\n",
       "    </tr>\n",
       "    <tr>\n",
       "      <th>3</th>\n",
       "      <td>Pulses</td>\n",
       "      <td>100.0</td>\n",
       "      <td>108.0</td>\n",
       "      <td>134.0</td>\n",
       "      <td>124.0</td>\n",
       "      <td>124.0</td>\n",
       "      <td>146.0</td>\n",
       "      <td>137.0</td>\n",
       "      <td>129.0</td>\n",
       "    </tr>\n",
       "    <tr>\n",
       "      <th>4</th>\n",
       "      <td>Vegetables</td>\n",
       "      <td>100.0</td>\n",
       "      <td>109.0</td>\n",
       "      <td>103.0</td>\n",
       "      <td>118.0</td>\n",
       "      <td>113.0</td>\n",
       "      <td>124.0</td>\n",
       "      <td>128.0</td>\n",
       "      <td>115.0</td>\n",
       "    </tr>\n",
       "    <tr>\n",
       "      <th>5</th>\n",
       "      <td>Fruits</td>\n",
       "      <td>100.0</td>\n",
       "      <td>99.0</td>\n",
       "      <td>99.0</td>\n",
       "      <td>98.0</td>\n",
       "      <td>102.0</td>\n",
       "      <td>104.0</td>\n",
       "      <td>114.0</td>\n",
       "      <td>119.0</td>\n",
       "    </tr>\n",
       "    <tr>\n",
       "      <th>6</th>\n",
       "      <td>Milk</td>\n",
       "      <td>100.0</td>\n",
       "      <td>97.0</td>\n",
       "      <td>98.0</td>\n",
       "      <td>98.0</td>\n",
       "      <td>98.0</td>\n",
       "      <td>112.0</td>\n",
       "      <td>123.0</td>\n",
       "      <td>124.0</td>\n",
       "    </tr>\n",
       "    <tr>\n",
       "      <th>7</th>\n",
       "      <td>Eggs, Fish and Meat</td>\n",
       "      <td>100.0</td>\n",
       "      <td>102.0</td>\n",
       "      <td>101.0</td>\n",
       "      <td>100.0</td>\n",
       "      <td>99.0</td>\n",
       "      <td>116.0</td>\n",
       "      <td>133.0</td>\n",
       "      <td>137.0</td>\n",
       "    </tr>\n",
       "    <tr>\n",
       "      <th>8</th>\n",
       "      <td>Oilseeds</td>\n",
       "      <td>100.0</td>\n",
       "      <td>86.0</td>\n",
       "      <td>85.0</td>\n",
       "      <td>97.0</td>\n",
       "      <td>104.0</td>\n",
       "      <td>103.0</td>\n",
       "      <td>99.0</td>\n",
       "      <td>102.0</td>\n",
       "    </tr>\n",
       "    <tr>\n",
       "      <th>9</th>\n",
       "      <td>Sugarcane</td>\n",
       "      <td>100.0</td>\n",
       "      <td>96.0</td>\n",
       "      <td>91.0</td>\n",
       "      <td>87.0</td>\n",
       "      <td>80.0</td>\n",
       "      <td>81.0</td>\n",
       "      <td>109.0</td>\n",
       "      <td>107.0</td>\n",
       "    </tr>\n",
       "    <tr>\n",
       "      <th>10</th>\n",
       "      <td>Fibers</td>\n",
       "      <td>100.0</td>\n",
       "      <td>92.0</td>\n",
       "      <td>91.0</td>\n",
       "      <td>96.0</td>\n",
       "      <td>109.0</td>\n",
       "      <td>107.0</td>\n",
       "      <td>138.0</td>\n",
       "      <td>140.0</td>\n",
       "    </tr>\n",
       "    <tr>\n",
       "      <th>11</th>\n",
       "      <td>All Agriculture</td>\n",
       "      <td>100.0</td>\n",
       "      <td>99.0</td>\n",
       "      <td>101.0</td>\n",
       "      <td>104.0</td>\n",
       "      <td>106.0</td>\n",
       "      <td>115.0</td>\n",
       "      <td>123.0</td>\n",
       "      <td>122.0</td>\n",
       "    </tr>\n",
       "    <tr>\n",
       "      <th>12</th>\n",
       "      <td>NaN</td>\n",
       "      <td>NaN</td>\n",
       "      <td>NaN</td>\n",
       "      <td>NaN</td>\n",
       "      <td>NaN</td>\n",
       "      <td>NaN</td>\n",
       "      <td>NaN</td>\n",
       "      <td>NaN</td>\n",
       "      <td>NaN</td>\n",
       "    </tr>\n",
       "  </tbody>\n",
       "</table>\n",
       "</div>"
      ],
      "text/plain": [
       "                   crop  _2004_05  _2005_06  _2006_07  _2007_08  _2008_09  \\\n",
       "0                  Rice     100.0     101.0      99.0     105.0     112.0   \n",
       "1                 Wheat     100.0     101.0     112.0     115.0     117.0   \n",
       "2        Coarse Cereals     100.0     107.0     110.0     115.0     113.0   \n",
       "3                Pulses     100.0     108.0     134.0     124.0     124.0   \n",
       "4           Vegetables      100.0     109.0     103.0     118.0     113.0   \n",
       "5                Fruits     100.0      99.0      99.0      98.0     102.0   \n",
       "6                  Milk     100.0      97.0      98.0      98.0      98.0   \n",
       "7   Eggs, Fish and Meat     100.0     102.0     101.0     100.0      99.0   \n",
       "8              Oilseeds     100.0      86.0      85.0      97.0     104.0   \n",
       "9            Sugarcane      100.0      96.0      91.0      87.0      80.0   \n",
       "10               Fibers     100.0      92.0      91.0      96.0     109.0   \n",
       "11      All Agriculture     100.0      99.0     101.0     104.0     106.0   \n",
       "12                  NaN       NaN       NaN       NaN       NaN       NaN   \n",
       "\n",
       "    _2009_10  _2010_11  _2011_12  \n",
       "0      121.0     117.0     110.0  \n",
       "1      127.0     120.0     108.0  \n",
       "2      123.0     122.0     136.0  \n",
       "3      146.0     137.0     129.0  \n",
       "4      124.0     128.0     115.0  \n",
       "5      104.0     114.0     119.0  \n",
       "6      112.0     123.0     124.0  \n",
       "7      116.0     133.0     137.0  \n",
       "8      103.0      99.0     102.0  \n",
       "9       81.0     109.0     107.0  \n",
       "10     107.0     138.0     140.0  \n",
       "11     115.0     123.0     122.0  \n",
       "12       NaN       NaN       NaN  "
      ]
     },
     "execution_count": 7,
     "metadata": {},
     "output_type": "execute_result"
    }
   ],
   "source": [
    "df"
   ]
  },
  {
   "cell_type": "code",
   "execution_count": 8,
   "id": "970c0c3e",
   "metadata": {},
   "outputs": [
    {
     "data": {
      "text/plain": [
       "(13, 9)"
      ]
     },
     "execution_count": 8,
     "metadata": {},
     "output_type": "execute_result"
    }
   ],
   "source": [
    "df.shape"
   ]
  },
  {
   "cell_type": "code",
   "execution_count": 9,
   "id": "00e794f4",
   "metadata": {},
   "outputs": [
    {
     "data": {
      "text/html": [
       "<div>\n",
       "<style scoped>\n",
       "    .dataframe tbody tr th:only-of-type {\n",
       "        vertical-align: middle;\n",
       "    }\n",
       "\n",
       "    .dataframe tbody tr th {\n",
       "        vertical-align: top;\n",
       "    }\n",
       "\n",
       "    .dataframe thead th {\n",
       "        text-align: right;\n",
       "    }\n",
       "</style>\n",
       "<table border=\"1\" class=\"dataframe\">\n",
       "  <thead>\n",
       "    <tr style=\"text-align: right;\">\n",
       "      <th></th>\n",
       "      <th>_2004_05</th>\n",
       "      <th>_2005_06</th>\n",
       "      <th>_2006_07</th>\n",
       "      <th>_2007_08</th>\n",
       "      <th>_2008_09</th>\n",
       "      <th>_2009_10</th>\n",
       "      <th>_2010_11</th>\n",
       "      <th>_2011_12</th>\n",
       "    </tr>\n",
       "  </thead>\n",
       "  <tbody>\n",
       "    <tr>\n",
       "      <th>count</th>\n",
       "      <td>12.0</td>\n",
       "      <td>12.00000</td>\n",
       "      <td>12.000000</td>\n",
       "      <td>12.000000</td>\n",
       "      <td>12.000000</td>\n",
       "      <td>12.000000</td>\n",
       "      <td>12.000000</td>\n",
       "      <td>12.000000</td>\n",
       "    </tr>\n",
       "    <tr>\n",
       "      <th>mean</th>\n",
       "      <td>100.0</td>\n",
       "      <td>99.75000</td>\n",
       "      <td>102.000000</td>\n",
       "      <td>104.750000</td>\n",
       "      <td>106.416667</td>\n",
       "      <td>114.916667</td>\n",
       "      <td>121.916667</td>\n",
       "      <td>120.750000</td>\n",
       "    </tr>\n",
       "    <tr>\n",
       "      <th>std</th>\n",
       "      <td>0.0</td>\n",
       "      <td>6.64865</td>\n",
       "      <td>12.634728</td>\n",
       "      <td>10.963783</td>\n",
       "      <td>11.261022</td>\n",
       "      <td>15.900019</td>\n",
       "      <td>11.405408</td>\n",
       "      <td>12.800036</td>\n",
       "    </tr>\n",
       "    <tr>\n",
       "      <th>min</th>\n",
       "      <td>100.0</td>\n",
       "      <td>86.00000</td>\n",
       "      <td>85.000000</td>\n",
       "      <td>87.000000</td>\n",
       "      <td>80.000000</td>\n",
       "      <td>81.000000</td>\n",
       "      <td>99.000000</td>\n",
       "      <td>102.000000</td>\n",
       "    </tr>\n",
       "    <tr>\n",
       "      <th>25%</th>\n",
       "      <td>100.0</td>\n",
       "      <td>96.75000</td>\n",
       "      <td>96.250000</td>\n",
       "      <td>97.750000</td>\n",
       "      <td>101.250000</td>\n",
       "      <td>106.250000</td>\n",
       "      <td>116.250000</td>\n",
       "      <td>109.500000</td>\n",
       "    </tr>\n",
       "    <tr>\n",
       "      <th>50%</th>\n",
       "      <td>100.0</td>\n",
       "      <td>100.00000</td>\n",
       "      <td>100.000000</td>\n",
       "      <td>102.000000</td>\n",
       "      <td>107.500000</td>\n",
       "      <td>115.500000</td>\n",
       "      <td>122.500000</td>\n",
       "      <td>120.500000</td>\n",
       "    </tr>\n",
       "    <tr>\n",
       "      <th>75%</th>\n",
       "      <td>100.0</td>\n",
       "      <td>103.25000</td>\n",
       "      <td>104.750000</td>\n",
       "      <td>115.000000</td>\n",
       "      <td>113.000000</td>\n",
       "      <td>123.250000</td>\n",
       "      <td>129.250000</td>\n",
       "      <td>130.750000</td>\n",
       "    </tr>\n",
       "    <tr>\n",
       "      <th>max</th>\n",
       "      <td>100.0</td>\n",
       "      <td>109.00000</td>\n",
       "      <td>134.000000</td>\n",
       "      <td>124.000000</td>\n",
       "      <td>124.000000</td>\n",
       "      <td>146.000000</td>\n",
       "      <td>138.000000</td>\n",
       "      <td>140.000000</td>\n",
       "    </tr>\n",
       "  </tbody>\n",
       "</table>\n",
       "</div>"
      ],
      "text/plain": [
       "       _2004_05   _2005_06    _2006_07    _2007_08    _2008_09    _2009_10  \\\n",
       "count      12.0   12.00000   12.000000   12.000000   12.000000   12.000000   \n",
       "mean      100.0   99.75000  102.000000  104.750000  106.416667  114.916667   \n",
       "std         0.0    6.64865   12.634728   10.963783   11.261022   15.900019   \n",
       "min       100.0   86.00000   85.000000   87.000000   80.000000   81.000000   \n",
       "25%       100.0   96.75000   96.250000   97.750000  101.250000  106.250000   \n",
       "50%       100.0  100.00000  100.000000  102.000000  107.500000  115.500000   \n",
       "75%       100.0  103.25000  104.750000  115.000000  113.000000  123.250000   \n",
       "max       100.0  109.00000  134.000000  124.000000  124.000000  146.000000   \n",
       "\n",
       "         _2010_11    _2011_12  \n",
       "count   12.000000   12.000000  \n",
       "mean   121.916667  120.750000  \n",
       "std     11.405408   12.800036  \n",
       "min     99.000000  102.000000  \n",
       "25%    116.250000  109.500000  \n",
       "50%    122.500000  120.500000  \n",
       "75%    129.250000  130.750000  \n",
       "max    138.000000  140.000000  "
      ]
     },
     "execution_count": 9,
     "metadata": {},
     "output_type": "execute_result"
    }
   ],
   "source": [
    "df.describe()"
   ]
  },
  {
   "cell_type": "code",
   "execution_count": 10,
   "id": "29d07282",
   "metadata": {},
   "outputs": [],
   "source": [
    "X = [0 , 1 , 2 , 3 , 4 , 5 , 6 , 7]\n",
    "y = df.loc[4,\"_2004_05\" : \"_2011_12\"].values"
   ]
  },
  {
   "cell_type": "code",
   "execution_count": 11,
   "id": "0b66113d",
   "metadata": {},
   "outputs": [],
   "source": [
    "X = np.array(X)"
   ]
  },
  {
   "cell_type": "code",
   "execution_count": 12,
   "id": "6770ccdc",
   "metadata": {},
   "outputs": [
    {
     "data": {
      "text/plain": [
       "array([0, 1, 2, 3, 4, 5, 6, 7])"
      ]
     },
     "execution_count": 12,
     "metadata": {},
     "output_type": "execute_result"
    }
   ],
   "source": [
    "X"
   ]
  },
  {
   "cell_type": "code",
   "execution_count": 13,
   "id": "74027805",
   "metadata": {},
   "outputs": [],
   "source": [
    "X = X.reshape(8 , 1)"
   ]
  },
  {
   "cell_type": "code",
   "execution_count": 14,
   "id": "f96dfaa7",
   "metadata": {},
   "outputs": [
    {
     "data": {
      "text/plain": [
       "(8,)"
      ]
     },
     "execution_count": 14,
     "metadata": {},
     "output_type": "execute_result"
    }
   ],
   "source": [
    "y.shape"
   ]
  },
  {
   "cell_type": "code",
   "execution_count": 15,
   "id": "5cba6c9a",
   "metadata": {},
   "outputs": [],
   "source": [
    "y = y.reshape(8 , 1)"
   ]
  },
  {
   "cell_type": "code",
   "execution_count": 16,
   "id": "d86e8460",
   "metadata": {},
   "outputs": [
    {
     "data": {
      "text/plain": [
       "(8, 1)"
      ]
     },
     "execution_count": 16,
     "metadata": {},
     "output_type": "execute_result"
    }
   ],
   "source": [
    "y.shape"
   ]
  },
  {
   "cell_type": "code",
   "execution_count": 17,
   "id": "511130f2",
   "metadata": {},
   "outputs": [
    {
     "data": {
      "text/plain": [
       "(8, 1)"
      ]
     },
     "execution_count": 17,
     "metadata": {},
     "output_type": "execute_result"
    }
   ],
   "source": [
    "X.shape"
   ]
  },
  {
   "cell_type": "code",
   "execution_count": 18,
   "id": "ae19bf7d",
   "metadata": {},
   "outputs": [
    {
     "data": {
      "text/html": [
       "<style>#sk-container-id-1 {color: black;background-color: white;}#sk-container-id-1 pre{padding: 0;}#sk-container-id-1 div.sk-toggleable {background-color: white;}#sk-container-id-1 label.sk-toggleable__label {cursor: pointer;display: block;width: 100%;margin-bottom: 0;padding: 0.3em;box-sizing: border-box;text-align: center;}#sk-container-id-1 label.sk-toggleable__label-arrow:before {content: \"▸\";float: left;margin-right: 0.25em;color: #696969;}#sk-container-id-1 label.sk-toggleable__label-arrow:hover:before {color: black;}#sk-container-id-1 div.sk-estimator:hover label.sk-toggleable__label-arrow:before {color: black;}#sk-container-id-1 div.sk-toggleable__content {max-height: 0;max-width: 0;overflow: hidden;text-align: left;background-color: #f0f8ff;}#sk-container-id-1 div.sk-toggleable__content pre {margin: 0.2em;color: black;border-radius: 0.25em;background-color: #f0f8ff;}#sk-container-id-1 input.sk-toggleable__control:checked~div.sk-toggleable__content {max-height: 200px;max-width: 100%;overflow: auto;}#sk-container-id-1 input.sk-toggleable__control:checked~label.sk-toggleable__label-arrow:before {content: \"▾\";}#sk-container-id-1 div.sk-estimator input.sk-toggleable__control:checked~label.sk-toggleable__label {background-color: #d4ebff;}#sk-container-id-1 div.sk-label input.sk-toggleable__control:checked~label.sk-toggleable__label {background-color: #d4ebff;}#sk-container-id-1 input.sk-hidden--visually {border: 0;clip: rect(1px 1px 1px 1px);clip: rect(1px, 1px, 1px, 1px);height: 1px;margin: -1px;overflow: hidden;padding: 0;position: absolute;width: 1px;}#sk-container-id-1 div.sk-estimator {font-family: monospace;background-color: #f0f8ff;border: 1px dotted black;border-radius: 0.25em;box-sizing: border-box;margin-bottom: 0.5em;}#sk-container-id-1 div.sk-estimator:hover {background-color: #d4ebff;}#sk-container-id-1 div.sk-parallel-item::after {content: \"\";width: 100%;border-bottom: 1px solid gray;flex-grow: 1;}#sk-container-id-1 div.sk-label:hover label.sk-toggleable__label {background-color: #d4ebff;}#sk-container-id-1 div.sk-serial::before {content: \"\";position: absolute;border-left: 1px solid gray;box-sizing: border-box;top: 0;bottom: 0;left: 50%;z-index: 0;}#sk-container-id-1 div.sk-serial {display: flex;flex-direction: column;align-items: center;background-color: white;padding-right: 0.2em;padding-left: 0.2em;position: relative;}#sk-container-id-1 div.sk-item {position: relative;z-index: 1;}#sk-container-id-1 div.sk-parallel {display: flex;align-items: stretch;justify-content: center;background-color: white;position: relative;}#sk-container-id-1 div.sk-item::before, #sk-container-id-1 div.sk-parallel-item::before {content: \"\";position: absolute;border-left: 1px solid gray;box-sizing: border-box;top: 0;bottom: 0;left: 50%;z-index: -1;}#sk-container-id-1 div.sk-parallel-item {display: flex;flex-direction: column;z-index: 1;position: relative;background-color: white;}#sk-container-id-1 div.sk-parallel-item:first-child::after {align-self: flex-end;width: 50%;}#sk-container-id-1 div.sk-parallel-item:last-child::after {align-self: flex-start;width: 50%;}#sk-container-id-1 div.sk-parallel-item:only-child::after {width: 0;}#sk-container-id-1 div.sk-dashed-wrapped {border: 1px dashed gray;margin: 0 0.4em 0.5em 0.4em;box-sizing: border-box;padding-bottom: 0.4em;background-color: white;}#sk-container-id-1 div.sk-label label {font-family: monospace;font-weight: bold;display: inline-block;line-height: 1.2em;}#sk-container-id-1 div.sk-label-container {text-align: center;}#sk-container-id-1 div.sk-container {/* jupyter's `normalize.less` sets `[hidden] { display: none; }` but bootstrap.min.css set `[hidden] { display: none !important; }` so we also need the `!important` here to be able to override the default hidden behavior on the sphinx rendered scikit-learn.org. See: https://github.com/scikit-learn/scikit-learn/issues/21755 */display: inline-block !important;position: relative;}#sk-container-id-1 div.sk-text-repr-fallback {display: none;}</style><div id=\"sk-container-id-1\" class=\"sk-top-container\"><div class=\"sk-text-repr-fallback\"><pre>SVR(C=0.5, epsilon=0.01)</pre><b>In a Jupyter environment, please rerun this cell to show the HTML representation or trust the notebook. <br />On GitHub, the HTML representation is unable to render, please try loading this page with nbviewer.org.</b></div><div class=\"sk-container\" hidden><div class=\"sk-item\"><div class=\"sk-estimator sk-toggleable\"><input class=\"sk-toggleable__control sk-hidden--visually\" id=\"sk-estimator-id-1\" type=\"checkbox\" checked><label for=\"sk-estimator-id-1\" class=\"sk-toggleable__label sk-toggleable__label-arrow\">SVR</label><div class=\"sk-toggleable__content\"><pre>SVR(C=0.5, epsilon=0.01)</pre></div></div></div></div></div>"
      ],
      "text/plain": [
       "SVR(C=0.5, epsilon=0.01)"
      ]
     },
     "execution_count": 18,
     "metadata": {},
     "output_type": "execute_result"
    }
   ],
   "source": [
    "from sklearn import linear_model\n",
    "from sklearn import tree\n",
    "from sklearn import svm\n",
    "from sklearn.ensemble import GradientBoostingRegressor\n",
    "from sklearn.ensemble import RandomForestRegressor\n",
    "\n",
    "reg = svm.SVR(C=0.5 , epsilon=0.01)\n",
    "reg.fit(X , y )  "
   ]
  },
  {
   "cell_type": "code",
   "execution_count": 19,
   "id": "e74208de",
   "metadata": {},
   "outputs": [],
   "source": [
    "X_test = [8 , 9 , 10 , 11 , 12 , 13 , 14 , 15]\n",
    "X_test = np.array(X_test)"
   ]
  },
  {
   "cell_type": "code",
   "execution_count": 20,
   "id": "b8abe5b8",
   "metadata": {},
   "outputs": [],
   "source": [
    "pred = reg.predict(X_test.reshape(8 , 1))"
   ]
  },
  {
   "cell_type": "code",
   "execution_count": 21,
   "id": "8ffc8b00",
   "metadata": {},
   "outputs": [
    {
     "data": {
      "text/plain": [
       "array([114.02751043, 113.65420204, 113.42839962, 113.33932203,\n",
       "       113.31566967, 113.3113999 , 113.31087413, 113.31082992])"
      ]
     },
     "execution_count": 21,
     "metadata": {},
     "output_type": "execute_result"
    }
   ],
   "source": [
    "pred"
   ]
  },
  {
   "cell_type": "code",
   "execution_count": 22,
   "id": "9710aff6",
   "metadata": {},
   "outputs": [],
   "source": [
    "Years = [\"2004-05\" , \"2005-06\" ,\"2006-07\", \"2007-08\" , \"2008-09\" , \"2009-10\" , \"2010-11\" , \"2011-12\" , \"2012-13\" , \"2013-14\" , \"2014-15\" , \"2015-16\" , \"2016-17\" , \"2017-18\" , \"2018-19\" , \"2019-20\" ]"
   ]
  },
  {
   "cell_type": "code",
   "execution_count": 1,
   "id": "a491a8e0",
   "metadata": {},
   "outputs": [],
   "source": [
    "def calc_pred(Crop):\n",
    "    X = [0 , 1 , 2 , 3 , 4 , 5 , 6 , 7]\n",
    "    y = df.loc[ df.crop == Crop , \"_2004_05\" : \"_2011_12\" ].values\n",
    "    X = np.array(X)\n",
    "    y = y.reshape(8 , 1)\n",
    "    X = X.reshape(8 , 1)\n",
    "    reg = svm.SVR(C=0.5 , epsilon=0.01)\n",
    "    reg.fit(X , y ) \n",
    "    X_test = [8 , 9 , 10 , 11 , 12 , 13 , 14 , 15]\n",
    "    X_test = np.array(X_test)\n",
    "    pred = reg.predict(X_test.reshape(8 , 1))\n",
    "    pred = pred.reshape(8 , 1)\n",
    "    temp = y.reshape(8 , 1)\n",
    "    arr = []\n",
    "    for i in temp:\n",
    "        arr.append(i)\n",
    "    for i in pred:\n",
    "        arr.append(i)\n",
    "    arr = np.array(rohit)\n",
    "    arr = arr.reshape(16,)\n",
    "    Years = [\"2004-05\" , \"2005-06\" ,\"2006-07\", \"2007-08\" , \"2008-09\" , \"2009-10\" , \"2010-11\" , \"2011-12\" , \"2012-13\" , \"2013-14\" , \"2014-15\" , \"2015-16\" , \"2016-17\" , \"2017-18\" , \"2018-19\" , \"2019-20\" ]\n",
    "    Years = np.array(Years)\n",
    "    d = { \"Years\" : Years , \"Prediction\" : rohit }\n",
    "    final = pd.DataFrame(d)\n",
    "    fig, axes = plt.subplots(1,1)\n",
    "    fig.set_size_inches(10, 5)\n",
    "    sns.pointplot(data=final ,x = \"Years\" ,y = \"Prediction\", orient=\"v\" )\n",
    "    fig.savefig(\"5.png\")\n",
    "    final.to_csv( 'price_prediction.csv' , index = False )\n",
    "    print(pred)"
   ]
  },
  {
   "cell_type": "code",
   "execution_count": 31,
   "id": "4b350dbb",
   "metadata": {},
   "outputs": [
    {
     "name": "stdout",
     "output_type": "stream",
     "text": [
      "[[107.88966951]\n",
      " [107.484936  ]\n",
      " [107.25259968]\n",
      " [107.16264195]\n",
      " [107.13891112]\n",
      " [107.13463666]\n",
      " [107.13411071]\n",
      " [107.13406649]]\n"
     ]
    },
    {
     "data": {
      "image/png": "[encoded data removed]",
      "text/plain": [
       "<Figure size 1000x500 with 1 Axes>"
      ]
     },
     "metadata": {},
     "output_type": "display_data"
    }
   ],
   "source": [
    "calc_pred(\"Rice\")"
   ]
  },
  {
   "cell_type": "code",
   "execution_count": null,
   "id": "efefc5a8",
   "metadata": {},
   "outputs": [],
   "source": []
  }
 ],
 "metadata": {
  "kernelspec": {
   "display_name": "Python 3 (ipykernel)",
   "language": "python",
   "name": "python3"
  },
  "language_info": {
   "codemirror_mode": {
    "name": "ipython",
    "version": 3
   },
   "file_extension": ".py",
   "mimetype": "text/x-python",
   "name": "python",
   "nbconvert_exporter": "python",
   "pygments_lexer": "ipython3",
   "version": "3.10.9"
  }
 },
 "nbformat": 4,
 "nbformat_minor": 5
}
